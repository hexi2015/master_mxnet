{
 "cells": [
  {
   "cell_type": "code",
   "execution_count": null,
   "metadata": {},
   "outputs": [],
   "source": [
    "import sys\n",
    "import os\n",
    "import random\n",
    "import mxnet as mx"
   ]
  },
  {
   "cell_type": "markdown",
   "metadata": {},
   "source": [
    "## DataIter\n",
    "\n",
    "mx.io.DataIter 用于提供输入数据的接口"
   ]
  },
  {
   "cell_type": "code",
   "execution_count": null,
   "metadata": {},
   "outputs": [],
   "source": [
    "mnist = mx.test_utils.get_mnist()\n",
    "batch_size = 1\n",
    "print(\"data shape {} and data type {}\".format(mnist[\"train_data\"].shape, type(mnist[\"train_data\"])))\n",
    "train_iter = mx.io.NDArrayIter(mnist[\"train_data\"], mnist[\"train_label\"], batch_size, shuffle=True)\n",
    "print(\"provide_data:\", train_iter.provide_data)\n",
    "print(\"provide_label:\", train_iter.provide_label)\n",
    "count = 0\n",
    "while True:\n",
    "    try:\n",
    "        train_iter.next()\n",
    "        count += 1\n",
    "        if count % 10000 == 0:\n",
    "            print(\"Current batch number:\", count)\n",
    "    except StopIteration:\n",
    "        print(\"Read to End\")\n",
    "        break\n"
   ]
  },
  {
   "cell_type": "markdown",
   "metadata": {},
   "source": [
    "多轮遍历方法一"
   ]
  },
  {
   "cell_type": "code",
   "execution_count": null,
   "metadata": {},
   "outputs": [],
   "source": [
    "epoch = 0\n",
    "N = 10\n",
    "train_iter.reset()\n",
    "while True:\n",
    "    try:\n",
    "        train_iter.next()\n",
    "    except StopIteration:\n",
    "        train_iter.reset()\n",
    "        epoch += 1\n",
    "        print(\"Epoch num \", epoch)\n",
    "        if epoch >= 10:break"
   ]
  },
  {
   "cell_type": "markdown",
   "metadata": {},
   "source": [
    "多轮遍历方法二"
   ]
  },
  {
   "cell_type": "code",
   "execution_count": null,
   "metadata": {},
   "outputs": [],
   "source": [
    "for i in range(N):\n",
    "    train_iter.reset()\n",
    "    for batch in train_iter:\n",
    "        pass\n",
    "    print(\"Epoch num \", i+1)"
   ]
  },
  {
   "cell_type": "markdown",
   "metadata": {},
   "source": [
    "## 图片输入格式\n",
    "将图片文件转化成 id label filename 格式"
   ]
  },
  {
   "cell_type": "code",
   "execution_count": null,
   "metadata": {},
   "outputs": [],
   "source": []
  },
  {
   "cell_type": "code",
   "execution_count": null,
   "metadata": {},
   "outputs": [],
   "source": [
    "def make_dogvcat_data(data_loc, set_name):\n",
    "\n",
    "    # FORMAT ::= int_image_index \\t label_index \\t path_to_image \\n\n",
    "\n",
    "    image_files = os.listdir(data_loc)\n",
    "    random.seed(100)\n",
    "    random.shuffle(image_files)\n",
    "\n",
    "    n_image = len(image_files)\n",
    "    n_train = int(n_image * 0.8)\n",
    "    n_test = n_image - n_train\n",
    "\n",
    "    # train\n",
    "    fout = open(os.path.join(data_loc+'/../', set_name+'_train.lst'), 'w')\n",
    "\n",
    "    DOG = 0\n",
    "    CAT = 1\n",
    "    for i in range(n_train):\n",
    "        filename = image_files[i]\n",
    "        label = DOG if 'dog' in filename else CAT\n",
    "        fout.write('%d\\t%d\\t%s\\n'%(i, label, filename))\n",
    "    fout.close()\n",
    "\n",
    "    # test\n",
    "    fout = open(os.path.join(data_loc+'/../', set_name+'_test.lst'), 'w')\n",
    "    for i in range(n_test):\n",
    "        filename = image_files[n_train+i]\n",
    "        label = DOG if 'dog' in filename else CAT\n",
    "        fout.write('%d\\t%d\\t%s\\n'%(i, label, filename))\n",
    "    fout.close()\n",
    "\n",
    "make_dogvcat_data(\"data/cats_vs_dogs/train_data\", \"cats_vs_dogs\")"
   ]
  },
  {
   "cell_type": "code",
   "execution_count": null,
   "metadata": {},
   "outputs": [],
   "source": [
    "images = []\n",
    "for line in open(\"data/cats_vs_dogs/cats_vs_dogs_train.lst\"):\n",
    "    id,label,path = line.rstrip().split()\n",
    "    images.append(\"data/cats_vs_dogs/train_data/\" + path)\n",
    "print images\n",
    "    "
   ]
  },
  {
   "cell_type": "markdown",
   "metadata": {},
   "source": [
    "## 调用im2vec.py 输出 vec格式\n",
    "> -resize xxx   resize图片\n",
    "\n",
    "python im2vec.py data/cats_vs_dogs/cats_vs_dogs_train  data/cats_vs_dogs/train_data\n",
    "\n",
    "执行后，会生成 data/cats_vs_dogs/cats_vs_dogs_train.vec 文件\n"
   ]
  },
  {
   "cell_type": "code",
   "execution_count": null,
   "metadata": {},
   "outputs": [],
   "source": [
    "%matplotlib inline\n",
    "import mxnet as mx\n",
    "import matplotlib.pyplot as plt\n",
    "import cv2\n",
    "\n",
    "data_shape = (3,228,228)\n",
    "train = mx.io.ImageRecordIter(\n",
    "        path_imgrec = \"data/cats_vs_dogs/cats_vs_dogs_train.rec\",\n",
    "        data_shape  = data_shape,\n",
    "        data_name   = 'data',\n",
    "        label_name  = 'softmax_label',\n",
    "        batch_size  = 4,\n",
    "        resize = 250,\n",
    "        rand_crop   = True,\n",
    "        rand_mirror = True,\n",
    "        shuffle = False,\n",
    "        num_parts   = 1,\n",
    "        part_index  = 0\n",
    ")\n",
    "# 打印iter的data和label信息\n",
    "print train.provide_data\n",
    "print train.provide_label\n",
    "batch = train.next()\n"
   ]
  },
  {
   "cell_type": "code",
   "execution_count": null,
   "metadata": {},
   "outputs": [],
   "source": [
    "_, figs = plt.subplots(2, 2)\n",
    "\n",
    "for i in range(2):\n",
    "    for j in range(2):\n",
    "        img = cv2.imread(images[2*i+j],1)\n",
    "        img = cv2.cvtColor(img, cv2.COLOR_BGR2RGB)\n",
    "        fig = figs[i][j]\n",
    "        print img.shape\n",
    "        fig.imshow(img)\n",
    "plt.show()\n"
   ]
  },
  {
   "cell_type": "code",
   "execution_count": null,
   "metadata": {},
   "outputs": [],
   "source": [
    "_, figs = plt.subplots(2, 2)\n",
    "for i in range(2):\n",
    "    for j in range(2):\n",
    "        img, labels = batch.data[0][2*i+j], batch.label[0][2*i+j]\n",
    "        img = img.transpose((1, 2, 0)) \n",
    "        img = img.clip(0,255).asnumpy()/255.0\n",
    "        fig = figs[i][j]\n",
    "        fig.imshow(img)\n",
    "plt.show()"
   ]
  },
  {
   "cell_type": "code",
   "execution_count": null,
   "metadata": {},
   "outputs": [],
   "source": []
  },
  {
   "cell_type": "code",
   "execution_count": null,
   "metadata": {},
   "outputs": [],
   "source": []
  }
 ],
 "metadata": {
  "kernelspec": {
   "display_name": "Python 2",
   "language": "python",
   "name": "python2"
  },
  "language_info": {
   "codemirror_mode": {
    "name": "ipython",
    "version": 2
   },
   "file_extension": ".py",
   "mimetype": "text/x-python",
   "name": "python",
   "nbconvert_exporter": "python",
   "pygments_lexer": "ipython2",
   "version": "2.7.9"
  }
 },
 "nbformat": 4,
 "nbformat_minor": 2
}
